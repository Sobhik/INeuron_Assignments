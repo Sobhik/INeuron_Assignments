{
 "cells": [
  {
   "cell_type": "markdown",
   "id": "668bff16",
   "metadata": {},
   "source": [
    "Q.1 n-th Fibonacci number"
   ]
  },
  {
   "cell_type": "code",
   "execution_count": 21,
   "id": "b051643f",
   "metadata": {},
   "outputs": [
    {
     "name": "stdout",
     "output_type": "stream",
     "text": [
      "11\n",
      "11th fibonacci number is: 89\n"
     ]
    }
   ],
   "source": [
    "def fibonacci(n):\n",
    "    a=[None for i in range(n+1)] \n",
    "    a[0],a[1]=0,1\n",
    "    for i in range(2,n+1):\n",
    "        a[i]=a[i-1]+a[i-2]\n",
    "    print(\"{}th fibonacci number is: {}\".format(n,a[n]))\n",
    "\n",
    "n=int(input())\n",
    "fibonacci(n)"
   ]
  },
  {
   "cell_type": "markdown",
   "id": "09557d31",
   "metadata": {},
   "source": [
    "Q.2 Check if a given number is Fibonacci number or not?"
   ]
  },
  {
   "cell_type": "code",
   "execution_count": 29,
   "id": "308c7f51",
   "metadata": {},
   "outputs": [
    {
     "name": "stdout",
     "output_type": "stream",
     "text": [
      "34\n",
      "yes\n"
     ]
    }
   ],
   "source": [
    "def checkFibonacci(n):\n",
    "    if n==0 or n==1:\n",
    "        print(\"yes\")\n",
    "    else:\n",
    "        a,b,c=1,1,0\n",
    "        while c<n:\n",
    "            c=a+b\n",
    "            a=b\n",
    "            b=c\n",
    "        if c==n:\n",
    "            print(\"yes\")\n",
    "        else:\n",
    "            print(\"No\")\n",
    "\n",
    "n=int(input())\n",
    "checkFibonacci(n)"
   ]
  },
  {
   "cell_type": "markdown",
   "id": "756d4936",
   "metadata": {},
   "source": [
    "Q.3 Nth Multiple of a number in Fibonacci series"
   ]
  },
  {
   "cell_type": "code",
   "execution_count": 30,
   "id": "4b1f9692",
   "metadata": {},
   "outputs": [
    {
     "data": {
      "text/plain": [
       "1"
      ]
     },
     "execution_count": 30,
     "metadata": {},
     "output_type": "execute_result"
    }
   ],
   "source": [
    "34%3"
   ]
  },
  {
   "cell_type": "markdown",
   "id": "9cc66caa",
   "metadata": {},
   "source": [
    "Q.4 ASCII Value of a character"
   ]
  },
  {
   "cell_type": "code",
   "execution_count": 33,
   "id": "3ea4a307",
   "metadata": {},
   "outputs": [
    {
     "name": "stdout",
     "output_type": "stream",
     "text": [
      "z\n",
      "The ASCII value of 'z' is 122\n"
     ]
    }
   ],
   "source": [
    "c = input()\n",
    "print(\"The ASCII value of '\" + c + \"' is\", ord(c))"
   ]
  },
  {
   "cell_type": "markdown",
   "id": "c15cc606",
   "metadata": {},
   "source": [
    "Q.5 Sum of Square of first n natural numbers"
   ]
  },
  {
   "cell_type": "code",
   "execution_count": 35,
   "id": "9d146816",
   "metadata": {},
   "outputs": [
    {
     "name": "stdout",
     "output_type": "stream",
     "text": [
      "8\n",
      "204\n"
     ]
    }
   ],
   "source": [
    "n=int(input())\n",
    "res=(n*(n+1)*(2*n+1))/6\n",
    "print(int(res))"
   ]
  },
  {
   "cell_type": "markdown",
   "id": "04a1a2c7",
   "metadata": {},
   "source": [
    "Q.6 Sum of Cubes of first n natural numbers"
   ]
  },
  {
   "cell_type": "code",
   "execution_count": 36,
   "id": "bd76eb50",
   "metadata": {},
   "outputs": [
    {
     "name": "stdout",
     "output_type": "stream",
     "text": [
      "8\n",
      "1296\n"
     ]
    }
   ],
   "source": [
    "n=int(input())\n",
    "res=(n**2*(n+1)**2)/4\n",
    "print(int(res))"
   ]
  },
  {
   "cell_type": "markdown",
   "id": "45d8f535",
   "metadata": {},
   "source": [
    "Q.7 Sum of Array"
   ]
  },
  {
   "cell_type": "code",
   "execution_count": 44,
   "id": "3eab6e65",
   "metadata": {},
   "outputs": [
    {
     "name": "stdout",
     "output_type": "stream",
     "text": [
      "1 2 3 4 5 6\n",
      "21\n"
     ]
    }
   ],
   "source": [
    "n=list(int(i) for i in input().split())\n",
    "sum=n[0]\n",
    "for i in range(1,len(n)):\n",
    "    sum+=n[i]\n",
    "print(sum)"
   ]
  },
  {
   "cell_type": "markdown",
   "id": "53507d51",
   "metadata": {},
   "source": [
    "Q.8 largest element in an array"
   ]
  },
  {
   "cell_type": "code",
   "execution_count": 46,
   "id": "aa739a4a",
   "metadata": {},
   "outputs": [
    {
     "name": "stdout",
     "output_type": "stream",
     "text": [
      "2343 42342 12312123 1232 \n",
      "12312123\n"
     ]
    }
   ],
   "source": [
    "n=list(int(i) for i in input().split())\n",
    "print(max(n))"
   ]
  },
  {
   "cell_type": "markdown",
   "id": "6e973ca6",
   "metadata": {},
   "source": [
    "Q.9 Array Rotation"
   ]
  },
  {
   "cell_type": "code",
   "execution_count": 18,
   "id": "0885d50c",
   "metadata": {},
   "outputs": [
    {
     "name": "stdout",
     "output_type": "stream",
     "text": [
      "1 2 3 4\n",
      "Rotate By: 3\n",
      "2 3 4 1\n"
     ]
    }
   ],
   "source": [
    "arr=list(int(i) for i in input().split())\n",
    "k=int(input(\"Rotate By: \"))\n",
    "l=len(arr)\n",
    "arr[:]=arr[l-k:l]+arr[0:l-k:]\n",
    "print(*arr)"
   ]
  },
  {
   "cell_type": "markdown",
   "id": "9ffff2d0",
   "metadata": {},
   "source": [
    "Q.10 Reversal Algorithm for array rotation"
   ]
  },
  {
   "cell_type": "code",
   "execution_count": 23,
   "id": "233f0bef",
   "metadata": {},
   "outputs": [
    {
     "name": "stdout",
     "output_type": "stream",
     "text": [
      "1, 2, 3, 4, 5, 6, 7\n",
      "Rotate By: 2\n",
      "3 4 5 6 7 1 2\n"
     ]
    }
   ],
   "source": [
    "arr=list(int(i) for i in input().split(\",\"))\n",
    "k=int(input(\"Rotate By: \"))\n",
    "l=len(arr)\n",
    "arr[:]=arr[k:l]+arr[0:k]\n",
    "print(*arr)"
   ]
  },
  {
   "cell_type": "markdown",
   "id": "6f9b44c7",
   "metadata": {},
   "source": [
    "Q.11 Split the Array and add the first part to the end"
   ]
  },
  {
   "cell_type": "code",
   "execution_count": 20,
   "id": "da57d5d2",
   "metadata": {},
   "outputs": [
    {
     "name": "stdout",
     "output_type": "stream",
     "text": [
      "12 10 5 6 52 36\n",
      "Rotate By: 2\n",
      "5 6 52 36 12 10\n"
     ]
    }
   ],
   "source": [
    "arr=list(int(i) for i in input().split())\n",
    "k=int(input(\"Rotate By: \"))\n",
    "l=len(arr)\n",
    "arr[:]=arr[k:l]+arr[0:k]\n",
    "print(*arr)"
   ]
  }
 ],
 "metadata": {
  "kernelspec": {
   "display_name": "Python 3 (ipykernel)",
   "language": "python",
   "name": "python3"
  },
  "language_info": {
   "codemirror_mode": {
    "name": "ipython",
    "version": 3
   },
   "file_extension": ".py",
   "mimetype": "text/x-python",
   "name": "python",
   "nbconvert_exporter": "python",
   "pygments_lexer": "ipython3",
   "version": "3.9.7"
  }
 },
 "nbformat": 4,
 "nbformat_minor": 5
}
